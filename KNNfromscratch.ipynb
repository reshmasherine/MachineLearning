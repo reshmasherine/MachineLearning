{
  "nbformat": 4,
  "nbformat_minor": 0,
  "metadata": {
    "colab": {
      "provenance": []
    },
    "kernelspec": {
      "name": "python3",
      "display_name": "Python 3"
    },
    "language_info": {
      "name": "python"
    }
  },
  "cells": [
    {
      "cell_type": "code",
      "execution_count": null,
      "metadata": {
        "id": "bxvFQv9_uyjg"
      },
      "outputs": [],
      "source": [
        "import numpy as np\n",
        "from scipy.stats import mode\n",
        "#Euclidean distance\n",
        "def euclidean(p1,p2):\n",
        "  dist=np.sqrt(np.sum((p1-p2)**2))\n",
        "  return dist\n",
        "def predict(x_train,y,x_input,k):\n",
        "  op_labels=[]\n",
        "  for item in x_input:\n",
        "    point_dist=[]\n",
        "    for j in range(len(x_train)):\n",
        "      distance=euclidean(np.array(x_train[j,:]),item)\n",
        "      point_dist.append(distance)\n",
        "    point_dist=np.array(point_dist)\n",
        "    dist=np.argsort(point_dist)[:k]\n",
        "    labels=y[dist]\n",
        "    lab=mode(labels)\n",
        "    lab=lab.mode[0]\n",
        "    op_labels.append(lab)\n",
        "  return op_labels\n",
        "\n"
      ]
    },
    {
      "cell_type": "code",
      "source": [
        "from sklearn.metrics import accuracy_score\n",
        "from sklearn.datasets import load_iris\n",
        "from numpy.random import randint\n",
        "iris=load_iris()\n",
        "X=iris.data\n",
        "y=iris.target\n",
        "train_idx=xxx=randint(0,150,100)# taking 50 random samples\n",
        "X_train=X[train_idx]\n",
        "y_train=y[train_idx]\n",
        "\n"
      ],
      "metadata": {
        "id": "06Kjp7pCyJUl"
      },
      "execution_count": null,
      "outputs": []
    },
    {
      "cell_type": "code",
      "source": [
        "test_idx=xxx=randint(0,150,50)# taking 50 random samples\n",
        "X_test=X[test_idx]\n",
        "y_test=y[test_idx]"
      ],
      "metadata": {
        "id": "Bt6NoPOMzGjg"
      },
      "execution_count": null,
      "outputs": []
    },
    {
      "cell_type": "code",
      "source": [
        "y_pred=predict(X_train,y_train,X_test,7)\n",
        "accuracy_score(y_test,y_pred)"
      ],
      "metadata": {
        "colab": {
          "base_uri": "https://localhost:8080/"
        },
        "id": "cBtJbr37zhy-",
        "outputId": "0030fed7-a9e7-4c76-92b1-f12611a893bb"
      },
      "execution_count": null,
      "outputs": [
        {
          "output_type": "execute_result",
          "data": {
            "text/plain": [
              "0.98"
            ]
          },
          "metadata": {},
          "execution_count": 5
        }
      ]
    }
  ]
}